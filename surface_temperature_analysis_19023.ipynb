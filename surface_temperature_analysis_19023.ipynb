{
  "nbformat": 4,
  "nbformat_minor": 0,
  "metadata": {
    "kernelspec": {
      "name": "python3",
      "display_name": "Python 3",
      "language": "python"
    },
    "language_info": {
      "name": "python",
      "version": "3.7.6",
      "mimetype": "text/x-python",
      "codemirror_mode": {
        "name": "ipython",
        "version": 3
      },
      "pygments_lexer": "ipython3",
      "nbconvert_exporter": "python",
      "file_extension": ".py"
    },
    "colab": {
      "name": "surface-temperature-analysis-19023.ipynb",
      "provenance": [],
      "include_colab_link": true
    }
  },
  "cells": [
    {
      "cell_type": "markdown",
      "metadata": {
        "id": "view-in-github",
        "colab_type": "text"
      },
      "source": [
        "<a href=\"https://colab.research.google.com/github/Raa96/BDS/blob/master/surface_temperature_analysis_19023.ipynb\" target=\"_parent\"><img src=\"https://colab.research.google.com/assets/colab-badge.svg\" alt=\"Open In Colab\"/></a>"
      ]
    },
    {
      "cell_type": "code",
      "metadata": {
        "_uuid": "8f2839f25d086af736a60e9eeb907d3b93b6e0e5",
        "_cell_guid": "b1076dfc-b9ad-4769-8c92-a6c4dae69d19",
        "trusted": true,
        "id": "10PrF8TIXLCc"
      },
      "source": [
        "import os\n",
        "for dirname, _, filenames in os.walk('/kaggle/input'):\n",
        "    for filename in filenames:\n",
        "        print(os.path.join(dirname, filename))"
      ],
      "execution_count": null,
      "outputs": []
    },
    {
      "cell_type": "code",
      "metadata": {
        "_uuid": "d629ff2d2480ee46fbb7e2d37f6b5fab8052498a",
        "_cell_guid": "79c7e3d0-c299-4dcb-8224-4455121ee9b0",
        "trusted": true,
        "id": "IAbnFOoXXLCi"
      },
      "source": [
        "import numpy as np\n",
        "import pandas as pd\n",
        "import matplotlib.pyplot as plt\n",
        "import seaborn as sns\n",
        "%matplotlib inline"
      ],
      "execution_count": null,
      "outputs": []
    },
    {
      "cell_type": "markdown",
      "metadata": {
        "id": "H9M8Tq6SXLCm"
      },
      "source": [
        "land temperatures based on Countries."
      ]
    },
    {
      "cell_type": "code",
      "metadata": {
        "trusted": true,
        "id": "e9Hu-eqZXLCn"
      },
      "source": [
        "# reading in GlobalLandTemperaturesByCountry.csv\n",
        "\n",
        "gltc = pd.read_csv('../input/climate-change-earth-surface-temperature-data/GlobalLandTemperaturesByCountry.csv')"
      ],
      "execution_count": null,
      "outputs": []
    },
    {
      "cell_type": "code",
      "metadata": {
        "trusted": true,
        "id": "yY52MCtKXLCs"
      },
      "source": [
        "gltc.head(2)"
      ],
      "execution_count": null,
      "outputs": []
    },
    {
      "cell_type": "markdown",
      "metadata": {
        "id": "Z2d2lK3dXLCx"
      },
      "source": [
        "Now we can see that the data ranges from the year 1743 to 2013(not in all cases though) for each of the months."
      ]
    },
    {
      "cell_type": "code",
      "metadata": {
        "trusted": true,
        "id": "km8b_lP3XLCy"
      },
      "source": [
        "#separating zimbabwe data\n",
        "df = gltc[gltc['Country']=='Zimbabwe']\n",
        "\n",
        "#dropping rows with NaN values\n",
        "df.dropna(inplace=True)\n",
        "\n",
        "# first lets bifurcate the months and year data for the dt\n",
        "df.loc[:,'dt'] = pd.to_datetime(df['dt'])\n",
        "\n",
        "df.loc[:,'month'] = [x.month for x in list(df['dt'])]\n",
        "df.loc[:,'year'] = [x.year for x in list(df['dt'])]"
      ],
      "execution_count": null,
      "outputs": []
    },
    {
      "cell_type": "code",
      "metadata": {
        "trusted": true,
        "id": "TjvxJXVkXLC3"
      },
      "source": [
        "plt.plot(df['dt'], df['AverageTemperature'])\n",
        "plt.show()"
      ],
      "execution_count": null,
      "outputs": []
    },
    {
      "cell_type": "markdown",
      "metadata": {
        "id": "dn0IoFH5XLC6"
      },
      "source": [
        "Not much sense can be made out of this plot so it's better to analyse one year data at a time\n",
        "\n",
        "Let's then analyze the data for 2012 year(because it contains all the months)"
      ]
    },
    {
      "cell_type": "code",
      "metadata": {
        "trusted": true,
        "id": "4zXEL76MXLC7"
      },
      "source": [
        "fig = plt.figure(figsize=(10,5))\n",
        "plt.plot(df.loc[df['year']==2012, 'dt'], df.loc[df['year']==2012,'AverageTemperature'])\n",
        "plt.title('Temperature at Zimbabwe in 2012')\n",
        "plt.xlabel('Months')\n",
        "plt.ylabel('Average Temperature')\n",
        "plt.show()"
      ],
      "execution_count": null,
      "outputs": []
    },
    {
      "cell_type": "markdown",
      "metadata": {
        "id": "EShC5fjrXLDB"
      },
      "source": [
        "From the above plot w can deduce that the temperature in Zimbabwe reaches it's lowest point in the month of July but again starts rising after that which seems pretty odd because being an Indian I expect the least value to be around the months of Dec-Feb"
      ]
    },
    {
      "cell_type": "markdown",
      "metadata": {
        "id": "12txwttlXLDC"
      },
      "source": [
        "Now checking the country that shows the highest temperature value in all these years.\n",
        "\n",
        "Then analysing that country's data and maybe find out the top 10 contributors"
      ]
    },
    {
      "cell_type": "code",
      "metadata": {
        "trusted": true,
        "id": "3TOGJbEXXLDD"
      },
      "source": [
        "#checking highest temperature\n",
        "\n",
        "gltc[gltc['AverageTemperature']==gltc['AverageTemperature'].max()]"
      ],
      "execution_count": null,
      "outputs": []
    },
    {
      "cell_type": "markdown",
      "metadata": {
        "id": "TPipREexXLDK"
      },
      "source": [
        "Okay so the highest temperature reach was by the country Kuwait with an AverageTemperature of 38.842. It reached the highest temperature on July,2012"
      ]
    },
    {
      "cell_type": "code",
      "metadata": {
        "trusted": true,
        "id": "-dYczSP4XLDK"
      },
      "source": [
        "#lets analyse Kuwait daa throughout 2012\n",
        "\n",
        "df = gltc[gltc['Country']=='Kuwait']\n",
        "df.dropna(inplace=True)\n",
        "df.loc[:,'dt'] = pd.to_datetime(df['dt'])\n",
        "df.loc[:,'month'] = [x.month for x in list(df['dt'])]\n",
        "df.loc[:,'year'] = [x.year for x in list(df['dt'])]\n",
        "fig = plt.figure(figsize=(10,5))\n",
        "plt.plot(df.loc[df['year']==2012, 'dt'], df.loc[df['year']==2012,'AverageTemperature'])\n",
        "plt.show()"
      ],
      "execution_count": null,
      "outputs": []
    },
    {
      "cell_type": "markdown",
      "metadata": {
        "id": "MnYWro6EXLDP"
      },
      "source": [
        "Lets see what the mean temperature is and then we can compare Kuwait temperature to it"
      ]
    },
    {
      "cell_type": "code",
      "metadata": {
        "trusted": true,
        "id": "_dnczetVXLDP"
      },
      "source": [
        "mean_temp = gltc['AverageTemperature'].mean()"
      ],
      "execution_count": null,
      "outputs": []
    },
    {
      "cell_type": "code",
      "metadata": {
        "trusted": true,
        "id": "H7NW0pCBXLDV"
      },
      "source": [
        "#lets plot again\n",
        "fig = plt.figure(figsize=(10,5))\n",
        "plt.plot(df.loc[df['year']==2012, 'dt'], df.loc[df['year']==2012,'AverageTemperature'])\n",
        "plt.axhline(mean_temp)\n",
        "plt.show()"
      ],
      "execution_count": null,
      "outputs": []
    },
    {
      "cell_type": "markdown",
      "metadata": {
        "id": "6Bh83w3xXLDZ"
      },
      "source": [
        "Thee situation doesn't seem too favourable for Kuwait.\n",
        "\n",
        "comparing its performance for the last 5 years."
      ]
    },
    {
      "cell_type": "code",
      "metadata": {
        "trusted": true,
        "id": "KH8uelz9XLDa"
      },
      "source": [
        "fig = plt.figure(figsize=(10,5))\n",
        "years = [2008,2009,2010,2011,2012]\n",
        "for year in years:\n",
        "    plt.plot(df.loc[df['year']==year, 'month'], df.loc[df['year']==year,'AverageTemperature'], label=year)\n",
        "plt.title('Temperature variation in Kuwait in last 5 years')\n",
        "plt.xlabel('Months')\n",
        "plt.ylabel('Average Temperature')\n",
        "plt.legend(loc='upper left')\n",
        "plt.axhline(mean_temp)\n",
        "plt.show()"
      ],
      "execution_count": null,
      "outputs": []
    },
    {
      "cell_type": "markdown",
      "metadata": {
        "id": "Vi9xJsYpXLDe"
      },
      "source": [
        "Looking at the plot it seems obvious that the temperature of Kuwait remains that way throughout every year"
      ]
    },
    {
      "cell_type": "code",
      "metadata": {
        "trusted": true,
        "id": "pmOgUm86XLDf"
      },
      "source": [
        "df['year'].unique()"
      ],
      "execution_count": null,
      "outputs": []
    },
    {
      "cell_type": "code",
      "metadata": {
        "trusted": true,
        "id": "TDLwBMM9XLDk"
      },
      "source": [
        "mean_by_year = []\n",
        "for year in list(df['year'].unique()):\n",
        "    df1 = df[df['year']==year]\n",
        "    mean_by_year.append(df1['AverageTemperature'].mean())\n",
        "    \n",
        "fig = plt.figure(figsize=(15,10))\n",
        "plt.bar(list(df['year'].unique()), mean_by_year)\n",
        "plt.show()"
      ],
      "execution_count": null,
      "outputs": []
    },
    {
      "cell_type": "markdown",
      "metadata": {
        "id": "1_TJM-32XLDp"
      },
      "source": [
        "This does not look good so let's the data for last 10 years"
      ]
    },
    {
      "cell_type": "code",
      "metadata": {
        "trusted": true,
        "id": "Y0ZHm2uAXLDq"
      },
      "source": [
        "mean_by_year = []\n",
        "years = list(df['year'].unique()[-10:])\n",
        "for year in years:\n",
        "    df1 = df[df['year']==year]\n",
        "    mean_by_year.append(df1['AverageTemperature'].mean())\n",
        "    \n",
        "fig = plt.figure(figsize=(10,5))\n",
        "barlist = plt.bar(years, mean_by_year)\n",
        "barlist[0].set_color('r')\n",
        "barlist[1].set_color('b')\n",
        "barlist[2].set_color('g')\n",
        "barlist[3].set_color('r')\n",
        "barlist[4].set_color('y')\n",
        "barlist[5].set_color('m')\n",
        "barlist[6].set_color('c')\n",
        "barlist[7].set_color('k')\n",
        "barlist[8].set_color('g')\n",
        "barlist[9].set_color('y')\n",
        "plt.xticks(np.arange(2004,2014),labels=years)\n",
        "plt.title('Temperature in Kuwait in last decade')\n",
        "plt.show()"
      ],
      "execution_count": null,
      "outputs": []
    },
    {
      "cell_type": "markdown",
      "metadata": {
        "id": "cNAEiWVIXLDt"
      },
      "source": [
        "Okay now I thought of checking the top 5 countries who are having the highest average tempeartures in the year 2012"
      ]
    },
    {
      "cell_type": "code",
      "metadata": {
        "trusted": true,
        "id": "PwqIhQr3XLDu"
      },
      "source": [
        "gltc['dt'] = pd.to_datetime(gltc['dt'])\n",
        "df = gltc[gltc['dt'].dt.year==2012]\n",
        "df = df.sort_values('AverageTemperature', ascending=False)\n",
        "df.head()"
      ],
      "execution_count": null,
      "outputs": []
    },
    {
      "cell_type": "markdown",
      "metadata": {
        "id": "BaNM9OtUXLDy"
      },
      "source": [
        "Since I see that most countries reached their highest values at around the month of July, so let's consider only that month so that I get unique countries"
      ]
    },
    {
      "cell_type": "code",
      "metadata": {
        "trusted": true,
        "id": "CRoqFI3BXLDz"
      },
      "source": [
        "df = gltc[(gltc['dt'].dt.year==2012) & (gltc['dt'].dt.month==7)]\n",
        "df = df.sort_values('AverageTemperature', ascending=False)\n",
        "top_countries = list(df['Country'].head())\n",
        "df.head()"
      ],
      "execution_count": null,
      "outputs": []
    },
    {
      "cell_type": "markdown",
      "metadata": {
        "id": "teHnafovXLD3"
      },
      "source": [
        "Okay so now I got my top 5 countries from the filtering. I will store them in a list and then check their temperature variation"
      ]
    },
    {
      "cell_type": "code",
      "metadata": {
        "trusted": true,
        "id": "_1Y-nFjbXLD4"
      },
      "source": [
        "gltc['month'] = gltc['dt'].dt.month\n",
        "gltc['year'] = gltc['dt'].dt.year"
      ],
      "execution_count": null,
      "outputs": []
    },
    {
      "cell_type": "code",
      "metadata": {
        "trusted": true,
        "id": "YIKyMl8nXLD7"
      },
      "source": [
        "fig = plt.figure(figsize=(10,5))\n",
        "for country in top_countries:\n",
        "    plt.plot(gltc.loc[(gltc['year']==2012)&(gltc['Country']==country), 'month'], gltc.loc[(gltc['year']==2012)&(gltc['Country']==country),'AverageTemperature'], label=country)\n",
        "plt.legend(loc=\"upper left\")\n",
        "plt.title('Top 5 countries with highest Average Soil Temperature for 2012')\n",
        "plt.xlabel('Months')\n",
        "plt.ylabel('Average Temperature')\n",
        "plt.show()"
      ],
      "execution_count": null,
      "outputs": []
    },
    {
      "cell_type": "code",
      "metadata": {
        "trusted": true,
        "id": "i3DYI6TbXLD-"
      },
      "source": [
        "data = pd.read_csv('../input/climate-change-earth-surface-temperature-data/GlobalLandTemperaturesByCity.csv')"
      ],
      "execution_count": null,
      "outputs": []
    },
    {
      "cell_type": "code",
      "metadata": {
        "trusted": true,
        "id": "1NipwonSXLEE"
      },
      "source": [
        "data.tail(10)"
      ],
      "execution_count": null,
      "outputs": []
    },
    {
      "cell_type": "markdown",
      "metadata": {
        "id": "RgV0xvqWXLEJ"
      },
      "source": [
        "Let's see the city that reached the highest temperature in the dataset."
      ]
    },
    {
      "cell_type": "code",
      "metadata": {
        "trusted": true,
        "id": "8dKq_c2IXLEL"
      },
      "source": [
        "data[data['AverageTemperature']==data['AverageTemperature'].max()]"
      ],
      "execution_count": null,
      "outputs": []
    },
    {
      "cell_type": "markdown",
      "metadata": {
        "id": "0Zwwl4afXLEO"
      },
      "source": [
        "Okay so the city name is Warqla and it is in the country Algeria.\n",
        "\n",
        "The highest temperature reached in the year 1761\n",
        "\n",
        "Let's now check the highest temperature reached in 2013(the last recorded year in the dataset)"
      ]
    },
    {
      "cell_type": "code",
      "metadata": {
        "trusted": true,
        "id": "oPMhrNgCXLEP"
      },
      "source": [
        "data['dt'] = pd.to_datetime(data['dt'])\n",
        "data['year'] = data['dt'].dt.year\n",
        "data['month'] = data['dt'].dt.month"
      ],
      "execution_count": null,
      "outputs": []
    },
    {
      "cell_type": "code",
      "metadata": {
        "trusted": true,
        "id": "wQad2p-DXLEX"
      },
      "source": [
        "df = data[data['year']==2013]\n",
        "df.sort_values('AverageTemperature', ascending=False, inplace=True)\n",
        "df = df.reset_index()\n",
        "df.head()"
      ],
      "execution_count": null,
      "outputs": []
    },
    {
      "cell_type": "code",
      "metadata": {
        "trusted": true,
        "id": "rx59RRZnXLEd"
      },
      "source": [
        "cities = df['City'][:5].tolist()\n",
        "fig = plt.figure(figsize=(10,5))\n",
        "for city in cities:\n",
        "    df1 = df[df['City']==city]\n",
        "    df1.sort_values('month', inplace=True)\n",
        "    plt.plot(df1['month'], df1['AverageTemperature'], label=city)\n",
        "plt.legend(loc='upper left')\n",
        "plt.title('Top 5 cities having highest temperature in 2013')\n",
        "plt.show()"
      ],
      "execution_count": null,
      "outputs": []
    },
    {
      "cell_type": "markdown",
      "metadata": {
        "id": "qX2TmesYXLEg"
      },
      "source": [
        "So now the top 5 cities with the highest temperature are revealed."
      ]
    },
    {
      "cell_type": "code",
      "metadata": {
        "trusted": true,
        "id": "MjkJ32eKXLEh"
      },
      "source": [
        "data['City'].nunique()"
      ],
      "execution_count": null,
      "outputs": []
    },
    {
      "cell_type": "markdown",
      "metadata": {
        "id": "L_mN3Pq9XLEk"
      },
      "source": [
        "So we have 3448 unique countries. Since we have geographic data. LEt's try and visualize that.\n",
        "\n",
        "A lot of things come up from a geographic data analysis.\n",
        "\n",
        "so take mean of average temperature for each countries"
      ]
    },
    {
      "cell_type": "markdown",
      "metadata": {
        "id": "EpZAP468XLEl"
      },
      "source": [
        "Creating new dataframe with the mean values"
      ]
    },
    {
      "cell_type": "code",
      "metadata": {
        "trusted": true,
        "id": "iTOxfQJHXLEm"
      },
      "source": [
        "def clean_lat_data(lat):\n",
        "    lat1 = lat.replace('N','')\n",
        "    lat1 = float(lat1.replace('S',''))\n",
        "    if lat[-1] == 'S':\n",
        "        lat1 *= (-1)\n",
        "    return lat1\n",
        "\n",
        "def clean_lon_data(lon):\n",
        "    lon1 = lon.replace('E','')\n",
        "    lon1 = float(lon1.replace('W',''))\n",
        "    if lon[-1] == 'W':\n",
        "        lon1 *= (-1)\n",
        "    return lon1"
      ],
      "execution_count": null,
      "outputs": []
    },
    {
      "cell_type": "code",
      "metadata": {
        "trusted": true,
        "id": "g-QyocQYXLEq"
      },
      "source": [
        "df = data[['AverageTemperature','City','Latitude','Longitude']]\n",
        "cities = list(df['City'].unique())\n",
        "latitudes = []\n",
        "longitudes = []\n",
        "temp = []\n",
        "for city in cities:\n",
        "    df1 = df[df['City']==city]\n",
        "    df1.dropna(inplace=True)\n",
        "    temp.append(df1['AverageTemperature'].mean())\n",
        "    lats = df1['Latitude'].tolist()\n",
        "    lons = df1['Longitude'].tolist()\n",
        "    lat = clean_lat_data(lats[0])\n",
        "    lon = clean_lon_data(lons[0])\n",
        "    latitudes.append(lat)\n",
        "    longitudes.append(lon)"
      ],
      "execution_count": null,
      "outputs": []
    },
    {
      "cell_type": "code",
      "metadata": {
        "trusted": true,
        "id": "3P5E4FgoXLEu"
      },
      "source": [
        "len(cities), len(latitudes), len(longitudes), len(temp)"
      ],
      "execution_count": null,
      "outputs": []
    },
    {
      "cell_type": "markdown",
      "metadata": {
        "id": "uhdEXdV9XLEx"
      },
      "source": [
        "So I tried to separate the data for each cities but it took to long and crashed the notebook thrice. \n",
        "\n",
        "So now I shifted to the thought of using unique countries to decrease the variability."
      ]
    },
    {
      "cell_type": "code",
      "metadata": {
        "trusted": true,
        "id": "B58Y220xXLEy"
      },
      "source": [
        "df = data[['AverageTemperature','Country','Latitude','Longitude']]\n",
        "countries = list(df['Country'].unique())\n",
        "latitudes = []\n",
        "longitudes = []\n",
        "temp = []\n",
        "for country in countries:\n",
        "    df1 = df[df['Country']==country]\n",
        "    df1.dropna(inplace=True)\n",
        "    temp.append(df1['AverageTemperature'].mean())\n",
        "    lats = df1['Latitude'].tolist()\n",
        "    lons = df1['Longitude'].tolist()\n",
        "    lat = clean_lat_data(lats[0])\n",
        "    lon = clean_lon_data(lons[0])\n",
        "    latitudes.append(lat)\n",
        "    longitudes.append(lon)"
      ],
      "execution_count": null,
      "outputs": []
    },
    {
      "cell_type": "code",
      "metadata": {
        "trusted": true,
        "id": "PCjNGsxbXLE2"
      },
      "source": [
        "len(countries), len(latitudes), len(longitudes), len(temp)"
      ],
      "execution_count": null,
      "outputs": []
    },
    {
      "cell_type": "code",
      "metadata": {
        "trusted": true,
        "id": "6YitWMxyXLE5"
      },
      "source": [
        "new_df = pd.DataFrame({'Country':countries, 'Latitude': latitudes, 'Longitude':longitudes, 'AverageTemperature': temp})\n",
        "new_df.head()"
      ],
      "execution_count": null,
      "outputs": []
    },
    {
      "cell_type": "code",
      "metadata": {
        "trusted": true,
        "id": "0etk7adtXLE-"
      },
      "source": [
        "#summoning the libraries needed\n",
        "from mpl_toolkits.basemap import Basemap\n",
        "\n",
        "m = Basemap(projection=\"merc\", llcrnrlat=-40, urcrnrlat=60, llcrnrlon=-50, urcrnrlon=150)\n",
        "\n",
        "#creating instances\n",
        "x , y = m(new_df[\"Longitude\"].tolist(),new_df[\"Latitude\"].tolist())"
      ],
      "execution_count": null,
      "outputs": []
    },
    {
      "cell_type": "code",
      "metadata": {
        "trusted": true,
        "id": "n-RnPeX3XLFC"
      },
      "source": [
        "fig = plt.figure(figsize=(10,7))\n",
        "plt.title(\"Temperature of Countries\")\n",
        "m.scatter(x, y, s=1, c='red')\n",
        "m.drawcoastlines()\n",
        "plt.show()"
      ],
      "execution_count": null,
      "outputs": []
    }
  ]
}