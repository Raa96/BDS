{
  "nbformat": 4,
  "nbformat_minor": 0,
  "metadata": {
    "colab": {
      "name": "bds_23_task5&6.ipynb",
      "provenance": [],
      "collapsed_sections": [],
      "authorship_tag": "ABX9TyOjtvJaBQZ8xZ9MxaSQnlGE",
      "include_colab_link": true
    },
    "kernelspec": {
      "name": "python3",
      "display_name": "Python 3"
    }
  },
  "cells": [
    {
      "cell_type": "markdown",
      "metadata": {
        "id": "view-in-github",
        "colab_type": "text"
      },
      "source": [
        "<a href=\"https://colab.research.google.com/github/Raa96/BDS/blob/master/bds_23_task5%266.ipynb\" target=\"_parent\"><img src=\"https://colab.research.google.com/assets/colab-badge.svg\" alt=\"Open In Colab\"/></a>"
      ]
    },
    {
      "cell_type": "code",
      "metadata": {
        "id": "zrvKxKFmpHmV",
        "colab_type": "code",
        "colab": {
          "base_uri": "https://localhost:8080/",
          "height": 119
        },
        "outputId": "2c2e58c0-c885-4fc7-8c18-f1e3f9ead186"
      },
      "source": [
        "# Python program to illustrate ElGamal encryption \n",
        "\n",
        "import random \n",
        "from math import pow\n",
        "\n",
        "a = random.randint(2, 10) \n",
        "\n",
        "def gcd(a, b): \n",
        "\tif a < b: \n",
        "\t\treturn gcd(b, a) \n",
        "\telif a % b == 0: \n",
        "\t\treturn b; \n",
        "\telse: \n",
        "\t\treturn gcd(b, a % b) \n",
        "\n",
        "# Generating large random numbers \n",
        "def gen_key(q): \n",
        "\n",
        "\tkey = random.randint(pow(10, 20), q) \n",
        "\twhile gcd(q, key) != 1: \n",
        "\t\tkey = random.randint(pow(10, 20), q) \n",
        "\n",
        "\treturn key \n",
        "\n",
        "# Modular exponentiation \n",
        "def power(a, b, c): \n",
        "\tx = 1\n",
        "\ty = a \n",
        "\n",
        "\twhile b > 0: \n",
        "\t\tif b % 2 == 0: \n",
        "\t\t\tx = (x * y) % c; \n",
        "\t\ty = (y * y) % c \n",
        "\t\tb = int(b / 2) \n",
        "\n",
        "\treturn x % c \n",
        "\n",
        "# Asymmetric encryption \n",
        "def encrypt(msg, q, h, g): \n",
        "\n",
        "\ten_msg = [] \n",
        "\n",
        "\tk = gen_key(q)# Private key for sender \n",
        "\ts = power(h, k, q) \n",
        "\tp = power(g, k, q) \n",
        "\t\n",
        "\tfor i in range(0, len(msg)): \n",
        "\t\ten_msg.append(msg[i]) \n",
        "\n",
        "\tprint(\"g^k used : \", p) \n",
        "\tprint(\"g^ak used : \", s) \n",
        "\tfor i in range(0, len(en_msg)): \n",
        "\t\ten_msg[i] = s * ord(en_msg[i]) \n",
        "\n",
        "\treturn en_msg, p \n",
        "\n",
        "def decrypt(en_msg, p, key, q): \n",
        "\n",
        "\tdr_msg = [] \n",
        "\th = power(p, key, q) \n",
        "\tfor i in range(0, len(en_msg)): \n",
        "\t\tdr_msg.append(chr(int(en_msg[i]/h))) \n",
        "\t\t\n",
        "\treturn dr_msg \n",
        "\n",
        "# Driver code \n",
        "def main(): \n",
        "\n",
        "\tmsg = 'encryption'\n",
        "\tprint(\"Original Message :\", msg) \n",
        "\n",
        "\tq = random.randint(pow(10, 20), pow(10, 50)) \n",
        "\tg = random.randint(2, q) \n",
        "\n",
        "\tkey = gen_key(q)# Private key for receiver \n",
        "\th = power(g, key, q) \n",
        "\tprint(\"g used : \", g) \n",
        "\tprint(\"g^a used : \", h) \n",
        "\n",
        "\ten_msg, p = encrypt(msg, q, h, g) \n",
        "\tdr_msg = decrypt(en_msg, p, key, q) \n",
        "\tdmsg = ''.join(dr_msg) \n",
        "\tprint(\"Decrypted Message :\", dmsg); \n",
        "\n",
        "\n",
        "if __name__ == '__main__': \n",
        "\tmain() \n"
      ],
      "execution_count": null,
      "outputs": [
        {
          "output_type": "stream",
          "text": [
            "Original Message : encryption\n",
            "g used :  91325302069655486612855957636250242732889165033279\n",
            "g^a used :  27374504827300527663129309114588088272264699445257\n",
            "g^k used :  44122196048002112923663099691009006956830321856857\n",
            "g^ak used :  40939609791483612846096995488271254487433161874273\n",
            "Decrypted Message : encryption\n"
          ],
          "name": "stdout"
        }
      ]
    },
    {
      "cell_type": "markdown",
      "metadata": {
        "id": "cDu3-ZSYpSoD",
        "colab_type": "text"
      },
      "source": [
        "Idea of ElGamal cryptosystem\n",
        "Suppose Alice wants to communicate to Bob.\n",
        "\n",
        "Bob generates public and private key :\n",
        "Bob chooses a very large number q and a cyclic group Fq.\n",
        "From the cyclic group Fq, he choose any element g and\n",
        "an element a such that gcd(a, q) = 1.\n",
        "Then he computes h = ga.\n",
        "Bob publishes F, h = ga, q and g as his public key and retains a as private key.\n",
        "Alice encrypts data using Bob’s public key :\n",
        "Alice selects an element k from cyclic group F\n",
        "such that gcd(k, q) = 1.\n",
        "Then she computes p = gk and s = hk = gak.\n",
        "She multiples s with M.\n",
        "Then she sends (p, M*s) = (gk, M*s).\n",
        "Bob decrypts the message :\n",
        "Bob calculates s′ = pa = gak.\n",
        "He divides M*s by s′ to obtain M as s = s′."
      ]
    },
    {
      "cell_type": "markdown",
      "metadata": {
        "id": "ZUsDkrnJSWn-",
        "colab_type": "text"
      },
      "source": [
        "## RSA Algorithm\n"
      ]
    },
    {
      "cell_type": "code",
      "metadata": {
        "id": "XE81f2pdR7UQ",
        "colab_type": "code",
        "colab": {
          "base_uri": "https://localhost:8080/",
          "height": 51
        },
        "outputId": "4b255e77-c9b5-4ef0-b6c8-33a6db47903a"
      },
      "source": [
        "# Function to find gcd \n",
        "# of two numbers \n",
        "def euclid(m, n): \n",
        "\t\n",
        "\tif n == 0: \n",
        "\t\treturn m \n",
        "\telse: \n",
        "\t\tr = m % n \n",
        "\t\treturn euclid(n, r) \n",
        "\t\n",
        "\t\n",
        "# Program to find \n",
        "# Multiplicative inverse \n",
        "def exteuclid(a, b): \n",
        "\t\n",
        "\tr1 = a \n",
        "\tr2 = b \n",
        "\ts1 = int(1) \n",
        "\ts2 = int(0) \n",
        "\tt1 = int(0) \n",
        "\tt2 = int(1) \n",
        "\t\n",
        "\twhile r2 > 0: \n",
        "\t\t\n",
        "\t\tq = r1//r2 \n",
        "\t\tr = r1-q * r2 \n",
        "\t\tr1 = r2 \n",
        "\t\tr2 = r \n",
        "\t\ts = s1-q * s2 \n",
        "\t\ts1 = s2 \n",
        "\t\ts2 = s \n",
        "\t\tt = t1-q * t2 \n",
        "\t\tt1 = t2 \n",
        "\t\tt2 = t \n",
        "\t\t\n",
        "\tif t1 < 0: \n",
        "\t\tt1 = t1 % a \n",
        "\t\t\n",
        "\treturn (r1, t1) \n",
        "\n",
        "# Enter two large prime \n",
        "# numbers p and q \n",
        "p = 56\n",
        "q = 34\n",
        "n = p * q \n",
        "Pn = (p-1)*(q-1) \n",
        "\n",
        "# Generate encryption key \n",
        "# in range 1<e<Pn \n",
        "key = [] \n",
        "\n",
        "for i in range(2, Pn): \n",
        "\t\n",
        "\tgcd = euclid(Pn, i) \n",
        "\t\n",
        "\tif gcd == 1: \n",
        "\t\tkey.append(i) \n",
        "\n",
        "\n",
        "# Select an encryption key \n",
        "# from the above list \n",
        "e = int(313) \n",
        "\n",
        "# Obtain inverse of \n",
        "# encryption key in Z_Pn \n",
        "r, d = exteuclid(Pn, e) \n",
        "if r == 1: \n",
        "\td = int(d) \n",
        "\tprint(\"decryption key is: \", d) \n",
        "\t\n",
        "else: \n",
        "\tprint(\"Multiplicative inverse for\t\\the given encryption key does not \\ exist. Choose a different encrytion key \") \n",
        "\n",
        "\n",
        "# Enter the message to be sent \n",
        "M = 19070\n",
        "\n",
        "# Signature is created by Alice \n",
        "S = (M**d) % n \n",
        "\n",
        "# Alice sends M and S both to Bob \n",
        "# Bob generates message M1 using the \n",
        "# signature S, Alice's public key e \n",
        "# and product n. \n",
        "M1 = (S**e) % n \n",
        "\n",
        "# If M = M1 only then Bob accepts \n",
        "# the message sent by Alice. \n",
        "\n",
        "if M == M1: \n",
        "\tprint(\"As M = M1, Accept the\\ \tmessage sent by Alice\") \n",
        "else: \n",
        "\tprint(\"As M not equal to M1,\\ Do not accept the message\\sent by Alice \") \n"
      ],
      "execution_count": 5,
      "outputs": [
        {
          "output_type": "stream",
          "text": [
            "decryption key is:  922\n",
            "As M not equal to M1,\\ Do not accept the message\\sent by Alice \n"
          ],
          "name": "stdout"
        }
      ]
    },
    {
      "cell_type": "code",
      "metadata": {
        "id": "Q2UCnko7TRUo",
        "colab_type": "code",
        "colab": {
          "base_uri": "https://localhost:8080/",
          "height": 85
        },
        "outputId": "cab9c131-15a4-40a3-ebbf-cbff531a7037"
      },
      "source": [
        "# Write Python3 code here \n",
        "from decimal import Decimal \n",
        "\n",
        "def gcd(a,b): \n",
        "\tif b==0: \n",
        "\t\treturn a \n",
        "\telse: \n",
        "\t\treturn gcd(b,a%b) \n",
        "p = int(input('Enter the value of p = ')) \n",
        "q = int(input('Enter the value of q = ')) \n",
        "no = int(input('Enter the value of text = ')) \n",
        "n = p*q \n",
        "t = (p-1)*(q-1) \n",
        "\n",
        "for e in range(2,t): \n",
        "\tif gcd(e,t)== 1: \n",
        "\t\tbreak\n",
        "\n",
        "\n",
        "for i in range(1,10): \n",
        "\tx = 1 + i*t \n",
        "\tif x % e == 0: \n",
        "\t\td = int(x/e) \n",
        "\t\tbreak\n",
        "ctt = Decimal(0) \n",
        "ctt =pow(no,e) \n",
        "ct = ctt % n \n",
        "\n",
        "dtt = Decimal(0) \n",
        "dtt = pow(ct,d) \n",
        "dt = dtt % n \n",
        "\n",
        "print('n = '+str(n)+' e = '+str(e)+' t = '+str(t)+' d = '+str(d)+' cipher text = '+str(ct)+' decrypted text = '+str(dt)) \n"
      ],
      "execution_count": 9,
      "outputs": [
        {
          "output_type": "stream",
          "text": [
            "Enter the value of p = 3\n",
            "Enter the value of q = 4\n",
            "Enter the value of text = 5\n",
            "n = 12 e = 5 t = 6 d = 5 cipher text = 5 decrypted text = 5\n"
          ],
          "name": "stdout"
        }
      ]
    },
    {
      "cell_type": "markdown",
      "metadata": {
        "id": "6FeDyBJPTAeX",
        "colab_type": "text"
      },
      "source": [
        "## HASHING"
      ]
    },
    {
      "cell_type": "code",
      "metadata": {
        "id": "gtGl1QGIS_qO",
        "colab_type": "code",
        "colab": {
          "base_uri": "https://localhost:8080/",
          "height": 68
        },
        "outputId": "e5faa3da-c9b7-4466-95fe-d7d9e85d2cc3"
      },
      "source": [
        "# Python 3 code to demonstrate \n",
        "# working of hash() \n",
        "\n",
        "# initializing objects \n",
        "int_val = 9\n",
        "str_val = 'LandTemperatureUncertainity'\n",
        "flt_val = 34.56\n",
        "\n",
        "# Printing the hash values. \n",
        "# Notice Integer value doesn't change \n",
        "# You'l have answer later in article. \n",
        "print (\"The integer hash value is : \" + str(hash(int_val))) \n",
        "print (\"The string hash value is : \" + str(hash(str_val))) \n",
        "print (\"The float hash value is : \" + str(hash(flt_val))) \n"
      ],
      "execution_count": 10,
      "outputs": [
        {
          "output_type": "stream",
          "text": [
            "The integer hash value is : 9\n",
            "The string hash value is : 2201114611610664210\n",
            "The float hash value is : 1291272085159673890\n"
          ],
          "name": "stdout"
        }
      ]
    },
    {
      "cell_type": "code",
      "metadata": {
        "id": "dXAm2OlFUReg",
        "colab_type": "code",
        "colab": {
          "base_uri": "https://localhost:8080/",
          "height": 34
        },
        "outputId": "ebf82002-c7b1-4333-a5f6-f145cbc01e0a"
      },
      "source": [
        "# property of hash() \n",
        "  \n",
        "# initializing objects \n",
        "# tuple are immutable \n",
        "tuple_val = (0, 2, 3, 3, 2.7) \n",
        "  \n",
        "# list are mutable \n",
        "list_val = [1.7, 2.5, 3, 4, 3] \n",
        "  \n",
        "# Printing the hash values. \n",
        "# Notice exception when trying \n",
        "# to convert mutable object \n",
        "print (\"The tuple hash value is : \" + str(hash(tuple_val))) \n",
        "#print (\"The list hash value is : \" + str(hash(list_val))) "
      ],
      "execution_count": 19,
      "outputs": [
        {
          "output_type": "stream",
          "text": [
            "The tuple hash value is : -2003171399697527529\n"
          ],
          "name": "stdout"
        }
      ]
    },
    {
      "cell_type": "code",
      "metadata": {
        "id": "MpyQXN7YUqGV",
        "colab_type": "code",
        "colab": {
          "base_uri": "https://localhost:8080/",
          "height": 214
        },
        "outputId": "b3ac350d-4238-42ec-b767-7aaa7b2d0d58"
      },
      "source": [
        "# property of hash() \n",
        "  \n",
        "# initializing objects \n",
        "# tuple are immutable \n",
        "tuple_val = (1, 2, 3, 4, 5) \n",
        "  \n",
        "# list are mutable \n",
        "list_val = [1, 2, 3, 4, 5] \n",
        "  \n",
        "# Printing the hash values. \n",
        "# Notice exception when trying \n",
        "# to convert mutable object \n",
        "print (\"The tuple hash value is : \" + str(hash(tuple_val))) \n",
        "print ( str(hash(list_val)))"
      ],
      "execution_count": 18,
      "outputs": [
        {
          "output_type": "stream",
          "text": [
            "The tuple hash value is : 8315274433719620810\n"
          ],
          "name": "stdout"
        },
        {
          "output_type": "error",
          "ename": "TypeError",
          "evalue": "ignored",
          "traceback": [
            "\u001b[0;31m---------------------------------------------------------------------------\u001b[0m",
            "\u001b[0;31mTypeError\u001b[0m                                 Traceback (most recent call last)",
            "\u001b[0;32m<ipython-input-18-47448115efe2>\u001b[0m in \u001b[0;36m<module>\u001b[0;34m()\u001b[0m\n\u001b[1;32m     12\u001b[0m \u001b[0;31m# to convert mutable object\u001b[0m\u001b[0;34m\u001b[0m\u001b[0;34m\u001b[0m\u001b[0;34m\u001b[0m\u001b[0m\n\u001b[1;32m     13\u001b[0m \u001b[0mprint\u001b[0m \u001b[0;34m(\u001b[0m\u001b[0;34m\"The tuple hash value is : \"\u001b[0m \u001b[0;34m+\u001b[0m \u001b[0mstr\u001b[0m\u001b[0;34m(\u001b[0m\u001b[0mhash\u001b[0m\u001b[0;34m(\u001b[0m\u001b[0mtuple_val\u001b[0m\u001b[0;34m)\u001b[0m\u001b[0;34m)\u001b[0m\u001b[0;34m)\u001b[0m\u001b[0;34m\u001b[0m\u001b[0;34m\u001b[0m\u001b[0m\n\u001b[0;32m---> 14\u001b[0;31m \u001b[0mprint\u001b[0m \u001b[0;34m(\u001b[0m \u001b[0mstr\u001b[0m\u001b[0;34m(\u001b[0m\u001b[0mhash\u001b[0m\u001b[0;34m(\u001b[0m\u001b[0mlist_val\u001b[0m\u001b[0;34m)\u001b[0m\u001b[0;34m)\u001b[0m\u001b[0;34m)\u001b[0m\u001b[0;34m\u001b[0m\u001b[0;34m\u001b[0m\u001b[0m\n\u001b[0m",
            "\u001b[0;31mTypeError\u001b[0m: unhashable type: 'list'"
          ]
        }
      ]
    }
  ]
}