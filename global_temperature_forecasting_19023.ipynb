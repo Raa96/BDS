{
  "nbformat": 4,
  "nbformat_minor": 0,
  "metadata": {
    "_is_fork": false,
    "kernelspec": {
      "name": "ir",
      "display_name": "R",
      "language": "R"
    },
    "language_info": {
      "name": "R",
      "codemirror_mode": "r",
      "pygments_lexer": "r",
      "mimetype": "text/x-r-source",
      "file_extension": ".r",
      "version": "3.6.3"
    },
    "_change_revision": 0,
    "colab": {
      "name": "global-temperature-forecasting-19023.ipynb",
      "provenance": [],
      "include_colab_link": true
    }
  },
  "cells": [
    {
      "cell_type": "markdown",
      "metadata": {
        "id": "view-in-github",
        "colab_type": "text"
      },
      "source": [
        "<a href=\"https://colab.research.google.com/github/Raa96/BDS/blob/master/global_temperature_forecasting_19023.ipynb\" target=\"_parent\"><img src=\"https://colab.research.google.com/assets/colab-badge.svg\" alt=\"Open In Colab\"/></a>"
      ]
    },
    {
      "cell_type": "code",
      "metadata": {
        "_cell_guid": "640b3af0-3c1d-c1f1-cb63-c037133a8e28",
        "_uuid": "d2b45586d182949c775b9174a71cd628c296850a",
        "trusted": false,
        "id": "aFfc_jluvPVf"
      },
      "source": [
        "library(ggplot2) \n",
        "library(readr) \n",
        "library(fpp2)\n"
      ],
      "execution_count": null,
      "outputs": []
    },
    {
      "cell_type": "code",
      "metadata": {
        "_cell_guid": "310f492d-728c-4262-9f57-b926e0576841",
        "_uuid": "7b8d2c314754c8f1d229057f80e4de026c4e9b72",
        "trusted": false,
        "id": "kbvu2yQNvPVm"
      },
      "source": [
        "temp_data<-read.csv(\"../input/GlobalTemperatures.csv\")\n",
        "str(temp_data)\n",
        "head(temp_data)\n",
        "summary(temp_data)"
      ],
      "execution_count": null,
      "outputs": []
    },
    {
      "cell_type": "code",
      "metadata": {
        "_cell_guid": "5c02248f-2e56-4be3-880c-2d31544fdb54",
        "_uuid": "3bad5f6e9217c8cfa5e822b78b72502f32475b5d",
        "trusted": false,
        "id": "so_uYDWmvPVq"
      },
      "source": [
        "#converting the dt variable to date\n",
        "temp_data$dt<-as.Date(temp_data$dt,format=\"yyyy-mm-dd\")\n",
        "head(temp_data)\n",
        "tail(temp_data)"
      ],
      "execution_count": null,
      "outputs": []
    },
    {
      "cell_type": "markdown",
      "metadata": {
        "_cell_guid": "321616bf-d0b5-4502-a0a6-43ae7e141f1a",
        "_uuid": "74265e6b94def9f6409baad832b5a5746b731a36",
        "id": "tUOIujYlvPVv"
      },
      "source": [
        "### Distribution of Average Temperature"
      ]
    },
    {
      "cell_type": "code",
      "metadata": {
        "_cell_guid": "3c145d3a-285b-4917-830d-9d48d0e38fcb",
        "_uuid": "19e42469b24f4e8f8aa7d5e00a95ce39adae01e5",
        "trusted": false,
        "id": "v9f9C9jZvPVv"
      },
      "source": [
        "options(repr.plot.width=4, repr.plot.height=4)\n",
        "ggplot(temp_data,aes(x=LandAverageTemperature))+geom_histogram(aes(y=..density..),fill=\"blue\")+geom_density(col=\"red\")"
      ],
      "execution_count": null,
      "outputs": []
    },
    {
      "cell_type": "markdown",
      "metadata": {
        "_cell_guid": "ae52c88d-c2b8-4763-91b0-c13ea80e48b4",
        "_uuid": "5a2446f96ddc778d262e80aae5e2aadb936f6ba4",
        "id": "Hmj6uIH4vPV1"
      },
      "source": [
        "Converting to Time Series data from data frame, inorder to proceed with time series anlysis and forecasting.\n",
        "     "
      ]
    },
    {
      "cell_type": "code",
      "metadata": {
        "_cell_guid": "4e1b62ff-683e-474a-9d72-f6917e969272",
        "_uuid": "6f2779f15e19a1c1e674a7587c8d432f3ab247ae",
        "trusted": false,
        "id": "n6NXrAyivPV2"
      },
      "source": [
        "#temp_data%>% filter(temp_data$dt)\n",
        "options(repr.plot.width=5, repr.plot.height=5)\n",
        "temp_ts<-ts(temp_data[,2],start=c(1980,1),end=c(2015,12),frequency=12)\n",
        "autoplot(temp_ts)\n",
        "ggseasonplot(temp_ts)"
      ],
      "execution_count": null,
      "outputs": []
    },
    {
      "cell_type": "markdown",
      "metadata": {
        "_cell_guid": "2a989bf4-57dc-4356-a407-6b7c627c2bff",
        "_uuid": "76fab835ee5c6efced3f0e1c3a0ce62960176599",
        "id": "viWK9BNuvPV6"
      },
      "source": [
        "As per the seasonal plot, its very clear that Avg temperature raises  slowly from January and attain peak at June,July, after which it falls down. This was continuting every year.\n",
        "\n",
        "Plotting the seasonal plot with Polar option."
      ]
    },
    {
      "cell_type": "code",
      "metadata": {
        "_cell_guid": "60120864-3ecb-46f6-94bc-88eb51c03ef6",
        "_uuid": "4389fc7364c0668fda30abb5ff0c522e3e94f493",
        "trusted": false,
        "id": "LJx-cIoUvPV7"
      },
      "source": [
        "ggseasonplot(temp_ts,polar=TRUE)"
      ],
      "execution_count": null,
      "outputs": []
    },
    {
      "cell_type": "markdown",
      "metadata": {
        "_cell_guid": "8fc80158-93aa-42a3-899e-ce51e21dc3ff",
        "_uuid": "3db349cc7771c85861657e03375a7483ea1b5ba0",
        "id": "xm3TcyrZvPWA"
      },
      "source": [
        "Time Series of the above plot seems to be have both seasonal and cyclic pattern.\n",
        "ggsubseriesplot is used to plot trend for every month seperately, within the sameplot."
      ]
    },
    {
      "cell_type": "code",
      "metadata": {
        "_cell_guid": "455586b6-a8b4-4b74-82c1-9822f192c57c",
        "_uuid": "80fa703608df728d9e37db161c882eb63dfab1c5",
        "trusted": false,
        "id": "F9wNyPdIvPWB"
      },
      "source": [
        "ggsubseriesplot(temp_ts)\n",
        "gglagplot(temp_ts)"
      ],
      "execution_count": null,
      "outputs": []
    },
    {
      "cell_type": "markdown",
      "metadata": {
        "_cell_guid": "ec194555-2a6d-4994-93a4-61983ef76b6b",
        "_uuid": "355384c5dd939b3bc66da449c3a3efa529dd90f8",
        "id": "WNwDAo6TvPWH"
      },
      "source": [
        "The Above plot is the lagplot, where the time series is plotted against the lag of itslef,\n",
        "\n",
        "Let's plot the autocorrelation of the time series"
      ]
    },
    {
      "cell_type": "code",
      "metadata": {
        "_cell_guid": "6f4d675b-50cb-42cf-98ca-d336c12c3aad",
        "_uuid": "ea4172030bb6f8f9dc4cbde7cc49c5bd304126d1",
        "trusted": false,
        "id": "tBPxxk19vPWH"
      },
      "source": [
        "ggAcf(temp_ts)"
      ],
      "execution_count": null,
      "outputs": []
    },
    {
      "cell_type": "markdown",
      "metadata": {
        "_cell_guid": "8d7c252d-1b2c-4d4a-b800-412735fd59e0",
        "_uuid": "64487b91ca16b97f1d575f9963c15ebd867bbb68",
        "id": "dcAMhvD1vPWL"
      },
      "source": [
        "Maximum autocorrelation exists at lag 12.\n",
        "\n",
        "### Naive Forecasting\n",
        "Lets forecast for next 3 years"
      ]
    },
    {
      "cell_type": "code",
      "metadata": {
        "_cell_guid": "a452a980-34bf-483e-bad7-b83a983e2840",
        "_uuid": "f802fab27a46fd2069c54390365549465f3e3844",
        "trusted": false,
        "id": "r3xW-C9cvPWM"
      },
      "source": [
        "temp_fc<-snaive(temp_ts,h=36)\n",
        "autoplot(temp_fc)\n",
        "summary(temp_fc)"
      ],
      "execution_count": null,
      "outputs": []
    },
    {
      "cell_type": "code",
      "metadata": {
        "_cell_guid": "4dc01e2a-5523-4a39-994f-0e2536a9af21",
        "_uuid": "71ba311a913c2acd5a0a2a5f18c18492eb38d56e",
        "trusted": false,
        "id": "970zaSRkvPWQ"
      },
      "source": [
        "#Check the residuals of the forecast using checkresidual function.\n",
        "checkresiduals(temp_fc)"
      ],
      "execution_count": null,
      "outputs": []
    },
    {
      "cell_type": "markdown",
      "metadata": {
        "_cell_guid": "f0a88db1-d2f7-4b53-9255-99434983dbcf",
        "_uuid": "923a361fc04c4768eacbe4bb89d3a25ce0146cb4",
        "id": "HXrKtphLvPWU"
      },
      "source": [
        "### ARIMA model & Forecasting"
      ]
    },
    {
      "cell_type": "code",
      "metadata": {
        "_cell_guid": "16354805-4dda-4ef5-892f-77abb59e44e0",
        "_uuid": "c6108789ab215f3d2e2618ab9c1f2d33b8a5ea7f",
        "trusted": false,
        "id": "qnIesYHivPWV"
      },
      "source": [
        "fit<-auto.arima(temp_ts,lambda=0)\n",
        "d<-1\n",
        "D<-1\n",
        "fit %>%forecast(h=36)%>%autoplot()\n",
        "checkresiduals(fit)"
      ],
      "execution_count": null,
      "outputs": []
    }
  ]
}