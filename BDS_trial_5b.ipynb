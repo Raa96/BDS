{
  "nbformat": 4,
  "nbformat_minor": 0,
  "metadata": {
    "colab": {
      "name": "BDS trial 5b.ipynb",
      "provenance": [],
      "authorship_tag": "ABX9TyMoOrifxIdH3xQOUNHuk8AN",
      "include_colab_link": true
    },
    "kernelspec": {
      "name": "python3",
      "display_name": "Python 3"
    }
  },
  "cells": [
    {
      "cell_type": "markdown",
      "metadata": {
        "id": "view-in-github",
        "colab_type": "text"
      },
      "source": [
        "<a href=\"https://colab.research.google.com/github/Raa96/BDS/blob/master/BDS_trial_5b.ipynb\" target=\"_parent\"><img src=\"https://colab.research.google.com/assets/colab-badge.svg\" alt=\"Open In Colab\"/></a>"
      ]
    },
    {
      "cell_type": "code",
      "metadata": {
        "id": "zrvKxKFmpHmV",
        "colab_type": "code",
        "colab": {
          "base_uri": "https://localhost:8080/",
          "height": 119
        },
        "outputId": "2c2e58c0-c885-4fc7-8c18-f1e3f9ead186"
      },
      "source": [
        "# Python program to illustrate ElGamal encryption \n",
        "\n",
        "import random \n",
        "from math import pow\n",
        "\n",
        "a = random.randint(2, 10) \n",
        "\n",
        "def gcd(a, b): \n",
        "\tif a < b: \n",
        "\t\treturn gcd(b, a) \n",
        "\telif a % b == 0: \n",
        "\t\treturn b; \n",
        "\telse: \n",
        "\t\treturn gcd(b, a % b) \n",
        "\n",
        "# Generating large random numbers \n",
        "def gen_key(q): \n",
        "\n",
        "\tkey = random.randint(pow(10, 20), q) \n",
        "\twhile gcd(q, key) != 1: \n",
        "\t\tkey = random.randint(pow(10, 20), q) \n",
        "\n",
        "\treturn key \n",
        "\n",
        "# Modular exponentiation \n",
        "def power(a, b, c): \n",
        "\tx = 1\n",
        "\ty = a \n",
        "\n",
        "\twhile b > 0: \n",
        "\t\tif b % 2 == 0: \n",
        "\t\t\tx = (x * y) % c; \n",
        "\t\ty = (y * y) % c \n",
        "\t\tb = int(b / 2) \n",
        "\n",
        "\treturn x % c \n",
        "\n",
        "# Asymmetric encryption \n",
        "def encrypt(msg, q, h, g): \n",
        "\n",
        "\ten_msg = [] \n",
        "\n",
        "\tk = gen_key(q)# Private key for sender \n",
        "\ts = power(h, k, q) \n",
        "\tp = power(g, k, q) \n",
        "\t\n",
        "\tfor i in range(0, len(msg)): \n",
        "\t\ten_msg.append(msg[i]) \n",
        "\n",
        "\tprint(\"g^k used : \", p) \n",
        "\tprint(\"g^ak used : \", s) \n",
        "\tfor i in range(0, len(en_msg)): \n",
        "\t\ten_msg[i] = s * ord(en_msg[i]) \n",
        "\n",
        "\treturn en_msg, p \n",
        "\n",
        "def decrypt(en_msg, p, key, q): \n",
        "\n",
        "\tdr_msg = [] \n",
        "\th = power(p, key, q) \n",
        "\tfor i in range(0, len(en_msg)): \n",
        "\t\tdr_msg.append(chr(int(en_msg[i]/h))) \n",
        "\t\t\n",
        "\treturn dr_msg \n",
        "\n",
        "# Driver code \n",
        "def main(): \n",
        "\n",
        "\tmsg = 'encryption'\n",
        "\tprint(\"Original Message :\", msg) \n",
        "\n",
        "\tq = random.randint(pow(10, 20), pow(10, 50)) \n",
        "\tg = random.randint(2, q) \n",
        "\n",
        "\tkey = gen_key(q)# Private key for receiver \n",
        "\th = power(g, key, q) \n",
        "\tprint(\"g used : \", g) \n",
        "\tprint(\"g^a used : \", h) \n",
        "\n",
        "\ten_msg, p = encrypt(msg, q, h, g) \n",
        "\tdr_msg = decrypt(en_msg, p, key, q) \n",
        "\tdmsg = ''.join(dr_msg) \n",
        "\tprint(\"Decrypted Message :\", dmsg); \n",
        "\n",
        "\n",
        "if __name__ == '__main__': \n",
        "\tmain() \n"
      ],
      "execution_count": 1,
      "outputs": [
        {
          "output_type": "stream",
          "text": [
            "Original Message : encryption\n",
            "g used :  91325302069655486612855957636250242732889165033279\n",
            "g^a used :  27374504827300527663129309114588088272264699445257\n",
            "g^k used :  44122196048002112923663099691009006956830321856857\n",
            "g^ak used :  40939609791483612846096995488271254487433161874273\n",
            "Decrypted Message : encryption\n"
          ],
          "name": "stdout"
        }
      ]
    },
    {
      "cell_type": "markdown",
      "metadata": {
        "id": "cDu3-ZSYpSoD",
        "colab_type": "text"
      },
      "source": [
        "Idea of ElGamal cryptosystem\n",
        "Suppose Alice wants to communicate to Bob.\n",
        "\n",
        "Bob generates public and private key :\n",
        "Bob chooses a very large number q and a cyclic group Fq.\n",
        "From the cyclic group Fq, he choose any element g and\n",
        "an element a such that gcd(a, q) = 1.\n",
        "Then he computes h = ga.\n",
        "Bob publishes F, h = ga, q and g as his public key and retains a as private key.\n",
        "Alice encrypts data using Bob’s public key :\n",
        "Alice selects an element k from cyclic group F\n",
        "such that gcd(k, q) = 1.\n",
        "Then she computes p = gk and s = hk = gak.\n",
        "She multiples s with M.\n",
        "Then she sends (p, M*s) = (gk, M*s).\n",
        "Bob decrypts the message :\n",
        "Bob calculates s′ = pa = gak.\n",
        "He divides M*s by s′ to obtain M as s = s′."
      ]
    }
  ]
}